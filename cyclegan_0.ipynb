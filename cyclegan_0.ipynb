{
 "cells": [
  {
   "cell_type": "code",
   "execution_count": null,
   "id": "abac33de-c4e8-492a-a086-eef918f381d0",
   "metadata": {},
   "outputs": [],
   "source": [
    "!pip install torch torchvision matplotlib pillow"
   ]
  },
  {
   "cell_type": "code",
   "execution_count": 2,
   "id": "c6ecf3fb-e62a-4b73-bde5-1eb7327162b0",
   "metadata": {},
   "outputs": [],
   "source": [
    "import torch\n",
    "import torchvision\n",
    "import torch.nn as nn\n",
    "import itertools\n",
    "from torch.optim import Adam\n",
    "import matplotlib.pyplot as plt\n",
    "import numpy as np\n",
    "import torchvision.transforms as transforms\n",
    "import os\n",
    "from torch.utils.data import DataLoader, TensorDataset, Dataset\n",
    "from tqdm import tqdm\n",
    "from MyTensorDataset import MyTensorDataset\n"
   ]
  },
  {
   "cell_type": "markdown",
   "id": "a771cdd8-6a9e-4025-9f7f-95a468563eae",
   "metadata": {},
   "source": [
    "## Hyperparameters"
   ]
  },
  {
   "cell_type": "code",
   "execution_count": 4,
   "id": "e99c99b4-3ff0-404b-ba1f-b32703a47855",
   "metadata": {},
   "outputs": [],
   "source": [
    "num_epochs = 1000\n",
    "batch_size = 10 #64"
   ]
  },
  {
   "cell_type": "code",
   "execution_count": 5,
   "id": "d0e0a963-6776-49ef-9e25-0968b91feb91",
   "metadata": {},
   "outputs": [],
   "source": [
    "# Define path to dataset\n",
    "data_path = r'.\\0_layers'"
   ]
  },
  {
   "cell_type": "code",
   "execution_count": 6,
   "id": "046a39ff-d51f-4221-ab2b-fffcc897e14f",
   "metadata": {},
   "outputs": [
    {
     "name": "stdout",
     "output_type": "stream",
     "text": [
      "2749\n"
     ]
    }
   ],
   "source": [
    "# Create the dataset\n",
    "dataset = MyTensorDataset(data_path)\n",
    "classes = ('black', 'cat')\n",
    "\n",
    "# Create the DataLoader\n",
    "dataloader = DataLoader(dataset, batch_size=batch_size, shuffle=True, num_workers = 4, persistent_workers=True)\n",
    "\n",
    "# Example: iterating through the DataLoader\n",
    "#for batch_tensors, batch_labels in dataloader:\n",
    "#    print(batch_tensors)  # The batch tensors\n",
    "#    print(batch_labels)   # The corresponding labels for each tensor\n",
    "asd = []\n",
    "for t,l in dataset:\n",
    "    if l == 0:\n",
    "        asd.append(l)\n",
    "print(len(asd))\n",
    "\n",
    "#a= []\n",
    "#b=[]\n",
    "#for batch_index, (real_A, real_B) in enumerate(dataloader):\n",
    "#    a.append(real_A)\n",
    "#    b.append(real_B)\n",
    "#print(len(a))\n",
    "#print(len(b))\n",
    "#print(a[0].shape)\n",
    "#print(b[0])"
   ]
  },
  {
   "cell_type": "markdown",
   "id": "76aca707-7793-49de-bd4d-9f953c8b5079",
   "metadata": {},
   "source": [
    "## Setup device"
   ]
  },
  {
   "cell_type": "code",
   "execution_count": 7,
   "id": "b071d8d6-8814-42d6-bc89-98a7cf90748e",
   "metadata": {},
   "outputs": [
    {
     "name": "stdout",
     "output_type": "stream",
     "text": [
      "cuda\n"
     ]
    }
   ],
   "source": [
    "device = \"cuda\" if torch.cuda.is_available() else \"cpu\"\n",
    "print(device)"
   ]
  },
  {
   "cell_type": "markdown",
   "id": "28bc93c4-6150-41df-8521-513651f4a321",
   "metadata": {},
   "source": [
    "## Define Model"
   ]
  },
  {
   "cell_type": "code",
   "execution_count": 8,
   "id": "339636cd-c0f4-4215-925a-ccaf21959d0f",
   "metadata": {},
   "outputs": [],
   "source": [
    "# Generator (U-Net inspired)\n",
    "class Generator(nn.Module):\n",
    "    def __init__(self):\n",
    "        super(Generator, self).__init__()\n",
    "        self.main = nn.Sequential(\n",
    "            nn.Conv3d(3, 64, kernel_size=3, stride=1, padding=1),\n",
    "            nn.ReLU(),\n",
    "            nn.Conv3d(64, 3, kernel_size=3, stride=1, padding=1),\n",
    "            nn.Tanh()\n",
    "        )\n",
    "    \n",
    "    def forward(self, x):\n",
    "        return self.main(x)\n",
    "\n",
    "# Discriminator (PatchGAN)\n",
    "class Discriminator(nn.Module):\n",
    "    def __init__(self):\n",
    "        super(Discriminator, self).__init__()\n",
    "        self.main = nn.Sequential(\n",
    "            nn.Conv3d(3, 64, kernel_size=3, stride=1, padding=1),\n",
    "            nn.LeakyReLU(0.2),\n",
    "            nn.Conv3d(64, 1, kernel_size=3, stride=1, padding=1),\n",
    "            nn.Sigmoid()\n",
    "        )\n",
    "    \n",
    "    def forward(self, x):\n",
    "        return self.main(x)\n"
   ]
  },
  {
   "cell_type": "markdown",
   "id": "ff71923b-6d9a-4c4b-8b42-c1ec39ec2bee",
   "metadata": {},
   "source": [
    "## Loss Function"
   ]
  },
  {
   "cell_type": "code",
   "execution_count": 9,
   "id": "467283a2-d389-4aa7-a3a6-b6431ff91bd8",
   "metadata": {},
   "outputs": [],
   "source": [
    "#Adversarial Loss: Encourages generators to produce realistic images.\n",
    "#Cycle-Consistency Loss: Ensures the transformation is reversible.\n",
    "#Identity Loss (Optional): Preserves key features of the input.\n",
    "adversarial_loss = nn.MSELoss()\n",
    "cycle_loss = nn.L1Loss()\n",
    "identity_loss = nn.L1Loss()"
   ]
  },
  {
   "cell_type": "markdown",
   "id": "257b55e9-2d94-46c2-92d0-71d7dc5afffa",
   "metadata": {},
   "source": [
    "## Training Loop"
   ]
  },
  {
   "cell_type": "code",
   "execution_count": null,
   "id": "85077ca2-415c-445c-a691-5cf5a919b07c",
   "metadata": {},
   "outputs": [
    {
     "name": "stdout",
     "output_type": "stream",
     "text": [
      "Epoch [1/2000]\n"
     ]
    },
    {
     "name": "stderr",
     "output_type": "stream",
     "text": [
      "100%|████████████████████████████████████████████████████████████████████████████████| 450/450 [00:10<00:00, 42.12it/s]\n"
     ]
    },
    {
     "name": "stdout",
     "output_type": "stream",
     "text": [
      "Epoch 0/2000, Loss G: 1.7471169233322144, Loss D_A: 0.2464035302400589, Loss D_B: 0.24848325550556183\n",
      "Epoch [2/2000]\n"
     ]
    },
    {
     "name": "stderr",
     "output_type": "stream",
     "text": [
      "100%|████████████████████████████████████████████████████████████████████████████████| 450/450 [00:10<00:00, 43.63it/s]\n"
     ]
    },
    {
     "name": "stdout",
     "output_type": "stream",
     "text": [
      "Epoch 1/2000, Loss G: 1.5622472763061523, Loss D_A: 0.2455386221408844, Loss D_B: 0.2448953092098236\n",
      "Epoch [3/2000]\n"
     ]
    },
    {
     "name": "stderr",
     "output_type": "stream",
     "text": [
      "100%|████████████████████████████████████████████████████████████████████████████████| 450/450 [00:09<00:00, 45.67it/s]\n"
     ]
    },
    {
     "name": "stdout",
     "output_type": "stream",
     "text": [
      "Epoch 2/2000, Loss G: 1.4362101554870605, Loss D_A: 0.2443532943725586, Loss D_B: 0.24655920267105103\n",
      "Epoch [4/2000]\n"
     ]
    },
    {
     "name": "stderr",
     "output_type": "stream",
     "text": [
      "100%|████████████████████████████████████████████████████████████████████████████████| 450/450 [00:09<00:00, 46.32it/s]\n"
     ]
    },
    {
     "name": "stdout",
     "output_type": "stream",
     "text": [
      "Epoch 3/2000, Loss G: 1.3124821186065674, Loss D_A: 0.24811571836471558, Loss D_B: 0.24476395547389984\n",
      "Epoch [5/2000]\n"
     ]
    },
    {
     "name": "stderr",
     "output_type": "stream",
     "text": [
      "100%|████████████████████████████████████████████████████████████████████████████████| 450/450 [00:09<00:00, 46.34it/s]\n"
     ]
    },
    {
     "name": "stdout",
     "output_type": "stream",
     "text": [
      "Epoch 4/2000, Loss G: 1.2376818656921387, Loss D_A: 0.2381831705570221, Loss D_B: 0.24222290515899658\n",
      "Epoch [6/2000]\n"
     ]
    },
    {
     "name": "stderr",
     "output_type": "stream",
     "text": [
      "100%|████████████████████████████████████████████████████████████████████████████████| 450/450 [00:10<00:00, 43.53it/s]\n"
     ]
    },
    {
     "name": "stdout",
     "output_type": "stream",
     "text": [
      "Epoch 5/2000, Loss G: 1.1255334615707397, Loss D_A: 0.2598329186439514, Loss D_B: 0.25927627086639404\n",
      "Epoch [7/2000]\n"
     ]
    },
    {
     "name": "stderr",
     "output_type": "stream",
     "text": [
      "100%|████████████████████████████████████████████████████████████████████████████████| 450/450 [00:09<00:00, 46.55it/s]\n"
     ]
    },
    {
     "name": "stdout",
     "output_type": "stream",
     "text": [
      "Epoch 6/2000, Loss G: nan, Loss D_A: nan, Loss D_B: nan\n",
      "Epoch [8/2000]\n"
     ]
    },
    {
     "name": "stderr",
     "output_type": "stream",
     "text": [
      "100%|████████████████████████████████████████████████████████████████████████████████| 450/450 [00:10<00:00, 43.87it/s]\n"
     ]
    },
    {
     "name": "stdout",
     "output_type": "stream",
     "text": [
      "Epoch 7/2000, Loss G: 1.0517456531524658, Loss D_A: 0.24419037997722626, Loss D_B: 0.24771764874458313\n",
      "Epoch [9/2000]\n"
     ]
    },
    {
     "name": "stderr",
     "output_type": "stream",
     "text": [
      "100%|████████████████████████████████████████████████████████████████████████████████| 450/450 [00:10<00:00, 42.34it/s]\n"
     ]
    },
    {
     "name": "stdout",
     "output_type": "stream",
     "text": [
      "Epoch 8/2000, Loss G: 1.0172326564788818, Loss D_A: 0.2526226341724396, Loss D_B: 0.24371591210365295\n",
      "Epoch [10/2000]\n"
     ]
    },
    {
     "name": "stderr",
     "output_type": "stream",
     "text": [
      "100%|████████████████████████████████████████████████████████████████████████████████| 450/450 [00:10<00:00, 41.62it/s]\n"
     ]
    },
    {
     "name": "stdout",
     "output_type": "stream",
     "text": [
      "Epoch 9/2000, Loss G: 0.961822509765625, Loss D_A: 0.2524397075176239, Loss D_B: 0.24910007417201996\n",
      "Epoch [11/2000]\n"
     ]
    },
    {
     "name": "stderr",
     "output_type": "stream",
     "text": [
      "100%|████████████████████████████████████████████████████████████████████████████████| 450/450 [00:10<00:00, 41.11it/s]\n"
     ]
    },
    {
     "name": "stdout",
     "output_type": "stream",
     "text": [
      "Epoch 10/2000, Loss G: 0.946488082408905, Loss D_A: 0.2503395974636078, Loss D_B: 0.2519153952598572\n",
      "Epoch [12/2000]\n"
     ]
    },
    {
     "name": "stderr",
     "output_type": "stream",
     "text": [
      "100%|████████████████████████████████████████████████████████████████████████████████| 450/450 [00:10<00:00, 41.74it/s]\n"
     ]
    },
    {
     "name": "stdout",
     "output_type": "stream",
     "text": [
      "Epoch 11/2000, Loss G: 0.8961316347122192, Loss D_A: 0.2503789961338043, Loss D_B: 0.25082990527153015\n",
      "Epoch [13/2000]\n"
     ]
    },
    {
     "name": "stderr",
     "output_type": "stream",
     "text": [
      "100%|████████████████████████████████████████████████████████████████████████████████| 450/450 [00:10<00:00, 41.90it/s]\n"
     ]
    },
    {
     "name": "stdout",
     "output_type": "stream",
     "text": [
      "Epoch 12/2000, Loss G: 0.8652424216270447, Loss D_A: 0.24814605712890625, Loss D_B: 0.25120413303375244\n",
      "Epoch [14/2000]\n"
     ]
    },
    {
     "name": "stderr",
     "output_type": "stream",
     "text": [
      "100%|████████████████████████████████████████████████████████████████████████████████| 450/450 [00:09<00:00, 45.48it/s]\n"
     ]
    },
    {
     "name": "stdout",
     "output_type": "stream",
     "text": [
      "Epoch 13/2000, Loss G: 0.8485185503959656, Loss D_A: 0.2494029998779297, Loss D_B: 0.25003498792648315\n",
      "Epoch [15/2000]\n"
     ]
    },
    {
     "name": "stderr",
     "output_type": "stream",
     "text": [
      "100%|████████████████████████████████████████████████████████████████████████████████| 450/450 [00:09<00:00, 46.18it/s]\n"
     ]
    },
    {
     "name": "stdout",
     "output_type": "stream",
     "text": [
      "Epoch 14/2000, Loss G: 0.7956128120422363, Loss D_A: 0.24740023910999298, Loss D_B: 0.2485593855381012\n",
      "Epoch [16/2000]\n"
     ]
    },
    {
     "name": "stderr",
     "output_type": "stream",
     "text": [
      "100%|████████████████████████████████████████████████████████████████████████████████| 450/450 [00:10<00:00, 44.18it/s]\n"
     ]
    },
    {
     "name": "stdout",
     "output_type": "stream",
     "text": [
      "Epoch 15/2000, Loss G: 0.7833571434020996, Loss D_A: 0.24358318746089935, Loss D_B: 0.24966244399547577\n",
      "Epoch [17/2000]\n"
     ]
    },
    {
     "name": "stderr",
     "output_type": "stream",
     "text": [
      "100%|████████████████████████████████████████████████████████████████████████████████| 450/450 [00:10<00:00, 44.85it/s]\n"
     ]
    },
    {
     "name": "stdout",
     "output_type": "stream",
     "text": [
      "Epoch 16/2000, Loss G: 0.7732622623443604, Loss D_A: 0.23964567482471466, Loss D_B: 0.2514430582523346\n",
      "Epoch [18/2000]\n"
     ]
    },
    {
     "name": "stderr",
     "output_type": "stream",
     "text": [
      "100%|████████████████████████████████████████████████████████████████████████████████| 450/450 [00:10<00:00, 44.47it/s]\n"
     ]
    },
    {
     "name": "stdout",
     "output_type": "stream",
     "text": [
      "Epoch 17/2000, Loss G: 0.7391523122787476, Loss D_A: 0.2506785988807678, Loss D_B: 0.2486845999956131\n",
      "Epoch [19/2000]\n"
     ]
    },
    {
     "name": "stderr",
     "output_type": "stream",
     "text": [
      "100%|████████████████████████████████████████████████████████████████████████████████| 450/450 [00:10<00:00, 44.44it/s]\n"
     ]
    },
    {
     "name": "stdout",
     "output_type": "stream",
     "text": [
      "Epoch 18/2000, Loss G: 0.7106465101242065, Loss D_A: 0.2505143880844116, Loss D_B: 0.24952858686447144\n",
      "Epoch [20/2000]\n"
     ]
    },
    {
     "name": "stderr",
     "output_type": "stream",
     "text": [
      "100%|████████████████████████████████████████████████████████████████████████████████| 450/450 [00:10<00:00, 42.98it/s]\n"
     ]
    },
    {
     "name": "stdout",
     "output_type": "stream",
     "text": [
      "Epoch 19/2000, Loss G: 0.6965239644050598, Loss D_A: 0.2517967224121094, Loss D_B: 0.25055673718452454\n",
      "Epoch [21/2000]\n"
     ]
    },
    {
     "name": "stderr",
     "output_type": "stream",
     "text": [
      "100%|████████████████████████████████████████████████████████████████████████████████| 450/450 [00:09<00:00, 45.94it/s]\n"
     ]
    },
    {
     "name": "stdout",
     "output_type": "stream",
     "text": [
      "Epoch 20/2000, Loss G: 0.6843599081039429, Loss D_A: 0.25383180379867554, Loss D_B: 0.24696975946426392\n",
      "Epoch [22/2000]\n"
     ]
    },
    {
     "name": "stderr",
     "output_type": "stream",
     "text": [
      "100%|████████████████████████████████████████████████████████████████████████████████| 450/450 [00:09<00:00, 45.89it/s]\n"
     ]
    },
    {
     "name": "stdout",
     "output_type": "stream",
     "text": [
      "Epoch 21/2000, Loss G: 0.6657233238220215, Loss D_A: 0.25032544136047363, Loss D_B: 0.24737626314163208\n",
      "Epoch [23/2000]\n"
     ]
    },
    {
     "name": "stderr",
     "output_type": "stream",
     "text": [
      "100%|████████████████████████████████████████████████████████████████████████████████| 450/450 [00:09<00:00, 46.07it/s]\n"
     ]
    },
    {
     "name": "stdout",
     "output_type": "stream",
     "text": [
      "Epoch 22/2000, Loss G: 0.6638022661209106, Loss D_A: 0.2514007091522217, Loss D_B: 0.24597415328025818\n",
      "Epoch [24/2000]\n"
     ]
    },
    {
     "name": "stderr",
     "output_type": "stream",
     "text": [
      "100%|████████████████████████████████████████████████████████████████████████████████| 450/450 [00:09<00:00, 46.00it/s]\n"
     ]
    },
    {
     "name": "stdout",
     "output_type": "stream",
     "text": [
      "Epoch 23/2000, Loss G: 0.6534503698348999, Loss D_A: 0.2493038773536682, Loss D_B: 0.2469991147518158\n",
      "Epoch [25/2000]\n"
     ]
    },
    {
     "name": "stderr",
     "output_type": "stream",
     "text": [
      "100%|████████████████████████████████████████████████████████████████████████████████| 450/450 [00:09<00:00, 45.28it/s]\n"
     ]
    },
    {
     "name": "stdout",
     "output_type": "stream",
     "text": [
      "Epoch 24/2000, Loss G: 0.6562355160713196, Loss D_A: 0.2468889206647873, Loss D_B: 0.24332785606384277\n",
      "Epoch [26/2000]\n"
     ]
    },
    {
     "name": "stderr",
     "output_type": "stream",
     "text": [
      "100%|████████████████████████████████████████████████████████████████████████████████| 450/450 [00:09<00:00, 46.73it/s]\n"
     ]
    },
    {
     "name": "stdout",
     "output_type": "stream",
     "text": [
      "Epoch 25/2000, Loss G: 0.6418374180793762, Loss D_A: 0.24492576718330383, Loss D_B: 0.2483355551958084\n",
      "Epoch [27/2000]\n"
     ]
    },
    {
     "name": "stderr",
     "output_type": "stream",
     "text": [
      "100%|████████████████████████████████████████████████████████████████████████████████| 450/450 [00:09<00:00, 45.73it/s]\n"
     ]
    },
    {
     "name": "stdout",
     "output_type": "stream",
     "text": [
      "Epoch 26/2000, Loss G: 0.6331088542938232, Loss D_A: 0.24746017158031464, Loss D_B: 0.2433193027973175\n",
      "Epoch [28/2000]\n"
     ]
    },
    {
     "name": "stderr",
     "output_type": "stream",
     "text": [
      "100%|████████████████████████████████████████████████████████████████████████████████| 450/450 [00:09<00:00, 45.79it/s]\n"
     ]
    },
    {
     "name": "stdout",
     "output_type": "stream",
     "text": [
      "Epoch 27/2000, Loss G: 0.6406581401824951, Loss D_A: 0.2467048019170761, Loss D_B: 0.2402506172657013\n",
      "Epoch [29/2000]\n"
     ]
    },
    {
     "name": "stderr",
     "output_type": "stream",
     "text": [
      "100%|████████████████████████████████████████████████████████████████████████████████| 450/450 [00:09<00:00, 46.65it/s]\n"
     ]
    },
    {
     "name": "stdout",
     "output_type": "stream",
     "text": [
      "Epoch 28/2000, Loss G: 0.6320289969444275, Loss D_A: 0.24303901195526123, Loss D_B: 0.2426028847694397\n",
      "Epoch [30/2000]\n"
     ]
    },
    {
     "name": "stderr",
     "output_type": "stream",
     "text": [
      "100%|████████████████████████████████████████████████████████████████████████████████| 450/450 [00:09<00:00, 46.09it/s]\n"
     ]
    },
    {
     "name": "stdout",
     "output_type": "stream",
     "text": [
      "Epoch 29/2000, Loss G: 0.6206365823745728, Loss D_A: 0.24717473983764648, Loss D_B: 0.24322253465652466\n",
      "Epoch [31/2000]\n"
     ]
    },
    {
     "name": "stderr",
     "output_type": "stream",
     "text": [
      "100%|████████████████████████████████████████████████████████████████████████████████| 450/450 [00:09<00:00, 46.55it/s]\n"
     ]
    },
    {
     "name": "stdout",
     "output_type": "stream",
     "text": [
      "Epoch 30/2000, Loss G: 0.6166402101516724, Loss D_A: 0.24412396550178528, Loss D_B: 0.24597227573394775\n",
      "Epoch [32/2000]\n"
     ]
    },
    {
     "name": "stderr",
     "output_type": "stream",
     "text": [
      "100%|████████████████████████████████████████████████████████████████████████████████| 450/450 [00:09<00:00, 46.10it/s]\n"
     ]
    },
    {
     "name": "stdout",
     "output_type": "stream",
     "text": [
      "Epoch 31/2000, Loss G: 0.6340538859367371, Loss D_A: 0.24274709820747375, Loss D_B: 0.2388068437576294\n",
      "Epoch [33/2000]\n"
     ]
    },
    {
     "name": "stderr",
     "output_type": "stream",
     "text": [
      "100%|████████████████████████████████████████████████████████████████████████████████| 450/450 [00:10<00:00, 43.46it/s]\n"
     ]
    },
    {
     "name": "stdout",
     "output_type": "stream",
     "text": [
      "Epoch 32/2000, Loss G: 0.6318999528884888, Loss D_A: 0.23405395448207855, Loss D_B: 0.23518040776252747\n",
      "Epoch [34/2000]\n"
     ]
    },
    {
     "name": "stderr",
     "output_type": "stream",
     "text": [
      "100%|████████████████████████████████████████████████████████████████████████████████| 450/450 [00:09<00:00, 45.48it/s]\n"
     ]
    },
    {
     "name": "stdout",
     "output_type": "stream",
     "text": [
      "Epoch 33/2000, Loss G: 0.6355388760566711, Loss D_A: 0.23480017483234406, Loss D_B: 0.2394232451915741\n",
      "Epoch [35/2000]\n"
     ]
    },
    {
     "name": "stderr",
     "output_type": "stream",
     "text": [
      "100%|████████████████████████████████████████████████████████████████████████████████| 450/450 [00:09<00:00, 46.28it/s]\n"
     ]
    },
    {
     "name": "stdout",
     "output_type": "stream",
     "text": [
      "Epoch 34/2000, Loss G: 0.6338062286376953, Loss D_A: 0.23394310474395752, Loss D_B: 0.2311084270477295\n",
      "Epoch [36/2000]\n"
     ]
    },
    {
     "name": "stderr",
     "output_type": "stream",
     "text": [
      "100%|████████████████████████████████████████████████████████████████████████████████| 450/450 [00:09<00:00, 45.91it/s]\n"
     ]
    },
    {
     "name": "stdout",
     "output_type": "stream",
     "text": [
      "Epoch 35/2000, Loss G: 0.6141712665557861, Loss D_A: 0.24173831939697266, Loss D_B: 0.23909369111061096\n",
      "Epoch [37/2000]\n"
     ]
    },
    {
     "name": "stderr",
     "output_type": "stream",
     "text": [
      "100%|████████████████████████████████████████████████████████████████████████████████| 450/450 [00:09<00:00, 45.64it/s]\n"
     ]
    },
    {
     "name": "stdout",
     "output_type": "stream",
     "text": [
      "Epoch 36/2000, Loss G: 0.6084676384925842, Loss D_A: 0.24672599136829376, Loss D_B: 0.248123437166214\n",
      "Epoch [38/2000]\n"
     ]
    },
    {
     "name": "stderr",
     "output_type": "stream",
     "text": [
      "100%|████████████████████████████████████████████████████████████████████████████████| 450/450 [00:09<00:00, 46.01it/s]\n"
     ]
    },
    {
     "name": "stdout",
     "output_type": "stream",
     "text": [
      "Epoch 37/2000, Loss G: 0.5948868989944458, Loss D_A: 0.24484765529632568, Loss D_B: 0.240744948387146\n",
      "Epoch [39/2000]\n"
     ]
    },
    {
     "name": "stderr",
     "output_type": "stream",
     "text": [
      "100%|████████████████████████████████████████████████████████████████████████████████| 450/450 [00:09<00:00, 46.95it/s]\n"
     ]
    },
    {
     "name": "stdout",
     "output_type": "stream",
     "text": [
      "Epoch 38/2000, Loss G: 0.6044698357582092, Loss D_A: 0.25007450580596924, Loss D_B: 0.23597928881645203\n",
      "Epoch [40/2000]\n"
     ]
    },
    {
     "name": "stderr",
     "output_type": "stream",
     "text": [
      "100%|████████████████████████████████████████████████████████████████████████████████| 450/450 [00:10<00:00, 43.86it/s]\n"
     ]
    },
    {
     "name": "stdout",
     "output_type": "stream",
     "text": [
      "Epoch 39/2000, Loss G: 0.6031745076179504, Loss D_A: 0.24858899414539337, Loss D_B: 0.23532211780548096\n",
      "Epoch [41/2000]\n"
     ]
    },
    {
     "name": "stderr",
     "output_type": "stream",
     "text": [
      "100%|████████████████████████████████████████████████████████████████████████████████| 450/450 [00:10<00:00, 43.49it/s]\n"
     ]
    },
    {
     "name": "stdout",
     "output_type": "stream",
     "text": [
      "Epoch 40/2000, Loss G: 0.607804000377655, Loss D_A: 0.24193525314331055, Loss D_B: 0.23697899281978607\n",
      "Epoch [42/2000]\n"
     ]
    },
    {
     "name": "stderr",
     "output_type": "stream",
     "text": [
      "100%|████████████████████████████████████████████████████████████████████████████████| 450/450 [00:11<00:00, 40.57it/s]\n"
     ]
    },
    {
     "name": "stdout",
     "output_type": "stream",
     "text": [
      "Epoch 41/2000, Loss G: 0.6204367280006409, Loss D_A: 0.24416497349739075, Loss D_B: 0.23014768958091736\n",
      "Epoch [43/2000]\n"
     ]
    },
    {
     "name": "stderr",
     "output_type": "stream",
     "text": [
      "100%|████████████████████████████████████████████████████████████████████████████████| 450/450 [00:12<00:00, 36.64it/s]\n"
     ]
    },
    {
     "name": "stdout",
     "output_type": "stream",
     "text": [
      "Epoch 42/2000, Loss G: 0.601885199546814, Loss D_A: 0.23762871325016022, Loss D_B: 0.25040772557258606\n",
      "Epoch [44/2000]\n"
     ]
    },
    {
     "name": "stderr",
     "output_type": "stream",
     "text": [
      "100%|████████████████████████████████████████████████████████████████████████████████| 450/450 [00:11<00:00, 39.65it/s]\n"
     ]
    },
    {
     "name": "stdout",
     "output_type": "stream",
     "text": [
      "Epoch 43/2000, Loss G: 0.6158362627029419, Loss D_A: 0.24202735722064972, Loss D_B: 0.23684342205524445\n",
      "Epoch [45/2000]\n"
     ]
    },
    {
     "name": "stderr",
     "output_type": "stream",
     "text": [
      "100%|████████████████████████████████████████████████████████████████████████████████| 450/450 [00:10<00:00, 44.95it/s]\n"
     ]
    },
    {
     "name": "stdout",
     "output_type": "stream",
     "text": [
      "Epoch 44/2000, Loss G: 0.6059147715568542, Loss D_A: 0.24340131878852844, Loss D_B: 0.24587854743003845\n",
      "Epoch [46/2000]\n"
     ]
    },
    {
     "name": "stderr",
     "output_type": "stream",
     "text": [
      "100%|████████████████████████████████████████████████████████████████████████████████| 450/450 [00:09<00:00, 45.33it/s]\n"
     ]
    },
    {
     "name": "stdout",
     "output_type": "stream",
     "text": [
      "Epoch 45/2000, Loss G: 0.6160739064216614, Loss D_A: 0.2387353777885437, Loss D_B: 0.24515007436275482\n",
      "Epoch [47/2000]\n"
     ]
    },
    {
     "name": "stderr",
     "output_type": "stream",
     "text": [
      "100%|████████████████████████████████████████████████████████████████████████████████| 450/450 [00:10<00:00, 43.27it/s]\n"
     ]
    },
    {
     "name": "stdout",
     "output_type": "stream",
     "text": [
      "Epoch 46/2000, Loss G: 0.6251744627952576, Loss D_A: 0.23063822090625763, Loss D_B: 0.23942820727825165\n",
      "Epoch [48/2000]\n"
     ]
    },
    {
     "name": "stderr",
     "output_type": "stream",
     "text": [
      "100%|████████████████████████████████████████████████████████████████████████████████| 450/450 [00:10<00:00, 42.26it/s]\n"
     ]
    },
    {
     "name": "stdout",
     "output_type": "stream",
     "text": [
      "Epoch 47/2000, Loss G: 0.618886411190033, Loss D_A: 0.23581302165985107, Loss D_B: 0.233137309551239\n",
      "Epoch [49/2000]\n"
     ]
    },
    {
     "name": "stderr",
     "output_type": "stream",
     "text": [
      " 54%|███████████████████████████████████████████▏                                    | 243/450 [00:06<00:05, 36.03it/s]"
     ]
    }
   ],
   "source": [
    "# Initialize models\n",
    "G_A2B = Generator().to(device)\n",
    "G_B2A = Generator().to(device)\n",
    "D_A = Discriminator().to(device)\n",
    "D_B = Discriminator().to(device)\n",
    "\n",
    "# Optimizers\n",
    "optimizer_G = Adam(itertools.chain(G_A2B.parameters(), G_B2A.parameters()), lr=0.00002, betas=(0.5, 0.999))\n",
    "optimizer_D_A = Adam(D_A.parameters(), lr=0.00002, betas=(0.5, 0.999))\n",
    "optimizer_D_B = Adam(D_B.parameters(), lr=0.00002, betas=(0.5, 0.999))\n",
    "\n",
    "# Training loop\n",
    "for epoch in range(num_epochs):\n",
    "    print(f\"Epoch [{epoch +1 }/{num_epochs}]\")\n",
    "    real_A = []\n",
    "    real_B = []\n",
    "    for batch_index, (data,labels) in enumerate(tqdm(dataloader)):\n",
    "        #print(len(batch_data))\n",
    "        #print(len(batch_data[0]),batch_data[1])\n",
    "        real_A = data[labels == 0]  # Data for domain A\n",
    "        real_B = data[labels == 1]\n",
    "        \n",
    "        #print(len(real_A),len(real_B))\n",
    "        real_A, real_B = real_A.to(device), real_B.to(device)\n",
    "        #print(real_A.shape)\n",
    "        # Train Generators\n",
    "        optimizer_G.zero_grad()\n",
    "\n",
    "        # GAN loss\n",
    "        fake_B = G_A2B(real_A)\n",
    "        fake_A = G_B2A(real_B)\n",
    "        loss_G_A2B = adversarial_loss(D_B(fake_B), torch.ones_like(D_B(fake_B)))\n",
    "        loss_G_B2A = adversarial_loss(D_A(fake_A), torch.ones_like(D_A(fake_A)))\n",
    "\n",
    "        # Cycle-consistency loss\n",
    "        reconstructed_A = G_B2A(fake_B)\n",
    "        reconstructed_B = G_A2B(fake_A)\n",
    "        loss_cycle_A = cycle_loss(reconstructed_A, real_A)\n",
    "        loss_cycle_B = cycle_loss(reconstructed_B, real_B)\n",
    "\n",
    "        # Total generator loss\n",
    "        loss_G = loss_G_A2B + loss_G_B2A + 10 * (loss_cycle_A + loss_cycle_B)\n",
    "        loss_G.backward()\n",
    "        optimizer_G.step()\n",
    "\n",
    "        # Train Discriminators\n",
    "        optimizer_D_A.zero_grad()\n",
    "        loss_D_A = (adversarial_loss(D_A(real_A), torch.ones_like(D_A(real_A))) +\n",
    "                    adversarial_loss(D_A(fake_A.detach()), torch.zeros_like(D_A(fake_A.detach())))) * 0.5\n",
    "        loss_D_A.backward()\n",
    "        optimizer_D_A.step()\n",
    "\n",
    "        optimizer_D_B.zero_grad()\n",
    "        loss_D_B = (adversarial_loss(D_B(real_B), torch.ones_like(D_B(real_B))) +\n",
    "                    adversarial_loss(D_B(fake_B.detach()), torch.zeros_like(D_B(fake_B.detach())))) * 0.5\n",
    "        loss_D_B.backward()\n",
    "        optimizer_D_B.step()\n",
    "\n",
    "    print(f\"Epoch {epoch}/{num_epochs}, Loss G: {loss_G.item()}, Loss D_A: {loss_D_A.item()}, Loss D_B: {loss_D_B.item()}\")\n"
   ]
  },
  {
   "cell_type": "markdown",
   "id": "4daeb719-ca91-49e4-9523-9a1183ac276e",
   "metadata": {},
   "source": [
    "## Save Models and Visualise results"
   ]
  },
  {
   "cell_type": "code",
   "execution_count": 181,
   "id": "cf456381-c9a5-4fc2-9da6-4ab396c712fb",
   "metadata": {},
   "outputs": [],
   "source": [
    "torch.save(G_A2B.state_dict(), 'generator_A2B.pth')\n",
    "torch.save(G_B2A.state_dict(), 'generator_B2A.pth')\n"
   ]
  },
  {
   "cell_type": "code",
   "execution_count": 186,
   "id": "e032022f-de21-46e1-bff9-f7c4af5dbab7",
   "metadata": {},
   "outputs": [],
   "source": [
    "layer = 0\n",
    "model = 0\n",
    "PATH = f'./black_layers_permuted/0/0_0000.pth'\n",
    "real_A = torch.load(f'./black_layers_permuted/{layer}/{layer}_{model:04}.pth', weights_only=True).to(device)\n",
    "real_B = torch.load(f'./cat_layers_permuted/{layer}/{layer}_{model:04}.pth', weights_only=True).to(device)\n",
    "\n",
    "\n",
    "# Assuming G_A and G_B are your trained generators\n",
    "G_A2B.to(device).eval()\n",
    "G_B2A.to(device).eval()\n",
    "\n",
    "# Generate fake images (domain A -> B and B -> A)\n",
    "fake_B = G_A2B(real_A).permute(1, 0, 2, 3)\n",
    "fake_A = G_B2A(real_B).permute(1, 0, 2, 3)\n"
   ]
  },
  {
   "cell_type": "code",
   "execution_count": 1,
   "id": "793dcba0-e4de-4c9b-888a-bcdfb554a33a",
   "metadata": {},
   "outputs": [
    {
     "name": "stdout",
     "output_type": "stream",
     "text": [
      "A\n"
     ]
    },
    {
     "ename": "NameError",
     "evalue": "name 'real_A' is not defined",
     "output_type": "error",
     "traceback": [
      "\u001b[1;31m---------------------------------------------------------------------------\u001b[0m",
      "\u001b[1;31mNameError\u001b[0m                                 Traceback (most recent call last)",
      "Cell \u001b[1;32mIn[1], line 13\u001b[0m\n\u001b[0;32m     10\u001b[0m         plt\u001b[38;5;241m.\u001b[39mimshow(grid\u001b[38;5;241m.\u001b[39mnumpy()\u001b[38;5;241m.\u001b[39mtranspose((\u001b[38;5;241m1\u001b[39m, \u001b[38;5;241m2\u001b[39m, \u001b[38;5;241m0\u001b[39m)))\n\u001b[0;32m     12\u001b[0m \u001b[38;5;28mprint\u001b[39m(\u001b[38;5;124m\"\u001b[39m\u001b[38;5;124mA\u001b[39m\u001b[38;5;124m\"\u001b[39m)\n\u001b[1;32m---> 13\u001b[0m visTensor(\u001b[43mreal_A\u001b[49m\u001b[38;5;241m.\u001b[39mcpu()\u001b[38;5;241m.\u001b[39mpermute(\u001b[38;5;241m1\u001b[39m, \u001b[38;5;241m0\u001b[39m, \u001b[38;5;241m2\u001b[39m, \u001b[38;5;241m3\u001b[39m), ch\u001b[38;5;241m=\u001b[39m\u001b[38;5;241m0\u001b[39m, allkernels\u001b[38;5;241m=\u001b[39m\u001b[38;5;28;01mFalse\u001b[39;00m)\n\u001b[0;32m     14\u001b[0m visTensor(fake_A\u001b[38;5;241m.\u001b[39mcpu(), ch\u001b[38;5;241m=\u001b[39m\u001b[38;5;241m0\u001b[39m, allkernels\u001b[38;5;241m=\u001b[39m\u001b[38;5;28;01mFalse\u001b[39;00m)\n\u001b[0;32m     16\u001b[0m \u001b[38;5;28mprint\u001b[39m(\u001b[38;5;124m\"\u001b[39m\u001b[38;5;124mB\u001b[39m\u001b[38;5;124m\"\u001b[39m)\n",
      "\u001b[1;31mNameError\u001b[0m: name 'real_A' is not defined"
     ]
    }
   ],
   "source": [
    "def visTensor(tensor, ch=0, allkernels=False, nrow=8, padding=1): \n",
    "        n,c,w,h = tensor.shape\n",
    "\n",
    "        if allkernels: tensor = tensor.view(n*c, -1, w, h)\n",
    "        elif c != 3: tensor = tensor[:,ch,:,:].unsqueeze(dim=1)\n",
    "\n",
    "        rows = np.min((tensor.shape[0] // nrow + 1, 64))    \n",
    "        grid = torchvision.utils.make_grid(tensor, nrow=nrow, normalize=True, padding=padding)\n",
    "        plt.figure( figsize=(nrow,rows) )\n",
    "        plt.imshow(grid.numpy().transpose((1, 2, 0)))\n",
    "\n",
    "print(\"A\")\n",
    "visTensor(real_A.cpu().permute(1, 0, 2, 3), ch=0, allkernels=False)\n",
    "visTensor(fake_A.cpu(), ch=0, allkernels=False)\n",
    "\n",
    "print(\"B\")\n",
    "visTensor(real_B.cpu().permute(1, 0, 2, 3), ch=0, allkernels=False)\n",
    "visTensor(fake_B.cpu(), ch=0, allkernels=False)"
   ]
  },
  {
   "cell_type": "code",
   "execution_count": null,
   "id": "6aa014c4-102c-4619-996e-9ae320f3ea87",
   "metadata": {},
   "outputs": [],
   "source": []
  }
 ],
 "metadata": {
  "kernelspec": {
   "display_name": "Python 3 (ipykernel)",
   "language": "python",
   "name": "python3"
  },
  "language_info": {
   "codemirror_mode": {
    "name": "ipython",
    "version": 3
   },
   "file_extension": ".py",
   "mimetype": "text/x-python",
   "name": "python",
   "nbconvert_exporter": "python",
   "pygments_lexer": "ipython3",
   "version": "3.11.0"
  }
 },
 "nbformat": 4,
 "nbformat_minor": 5
}
